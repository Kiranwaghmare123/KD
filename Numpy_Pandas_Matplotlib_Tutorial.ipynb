{
  "nbformat": 4,
  "nbformat_minor": 0,
  "metadata": {
    "colab": {
      "provenance": [],
      "authorship_tag": "ABX9TyM/ad8xwYR9EzcugNS9naq3",
      "include_colab_link": true
    },
    "kernelspec": {
      "name": "python3",
      "display_name": "Python 3"
    },
    "language_info": {
      "name": "python"
    }
  },
  "cells": [
    {
      "cell_type": "markdown",
      "metadata": {
        "id": "view-in-github",
        "colab_type": "text"
      },
      "source": [
        "<a href=\"https://colab.research.google.com/github/Kiranwaghmare123/KD/blob/master/Numpy_Pandas_Matplotlib_Tutorial.ipynb\" target=\"_parent\"><img src=\"https://colab.research.google.com/assets/colab-badge.svg\" alt=\"Open In Colab\"/></a>"
      ]
    },
    {
      "cell_type": "markdown",
      "source": [
        "**Numpy Tutorial**"
      ],
      "metadata": {
        "id": "r9lctVlmXqdb"
      }
    },
    {
      "cell_type": "markdown",
      "source": [
        "# data.txt\n",
        "1,13,21,11,196,75,4,3,34,6,7,8,0,1,2,3,4,5\n",
        "\n",
        "3,42,12,33,766,75,4,55,6,4,3,4,5,6,7,0,11,12\n",
        "\n",
        "1,22,33,11,999,11,2,1,78,0,1,2,9,8,7,1,76,88\n"
      ],
      "metadata": {
        "id": "bBQPs-NvXqfM"
      }
    },
    {
      "cell_type": "code",
      "source": [
        "#Import statements\n",
        "import numpy as np"
      ],
      "metadata": {
        "id": "jEam1X2fYK-K"
      },
      "execution_count": 3,
      "outputs": []
    },
    {
      "cell_type": "code",
      "source": [
        "a=np.array([1,2,3])\n",
        "b=np.array([\n",
        "    [1,1],\n",
        "    [1,1]\n",
        "])\n",
        "c=np.array([1,2,3],dtype=\"int16\")"
      ],
      "metadata": {
        "id": "yXRLw4rWYeH5"
      },
      "execution_count": 4,
      "outputs": []
    },
    {
      "cell_type": "code",
      "source": [
        "print(a)\n",
        "print(b)\n",
        "print(c)\n",
        "print('-------')\n",
        "print(a.ndim)\n",
        "print(b.ndim)\n",
        "print(c.ndim)\n",
        "print('-------')\n",
        "print(a.shape)\n",
        "print(b.shape)\n",
        "print(c.shape)"
      ],
      "metadata": {
        "colab": {
          "base_uri": "https://localhost:8080/"
        },
        "id": "0pC2XtJ5Y0VP",
        "outputId": "747b15fc-8b14-4d37-c913-7663b066a4c6"
      },
      "execution_count": 5,
      "outputs": [
        {
          "output_type": "stream",
          "name": "stdout",
          "text": [
            "[1 2 3]\n",
            "[[1 1]\n",
            " [1 1]]\n",
            "[1 2 3]\n",
            "-------\n",
            "1\n",
            "2\n",
            "1\n",
            "-------\n",
            "(3,)\n",
            "(2, 2)\n",
            "(3,)\n"
          ]
        }
      ]
    },
    {
      "cell_type": "markdown",
      "source": [
        "**Numpy Benefits**\n",
        "*   Fixed Type\n",
        "*   Contigious memory\n",
        "\n",
        "\n",
        "\n",
        "\n"
      ],
      "metadata": {
        "id": "lgaRR5CbZBRL"
      }
    },
    {
      "cell_type": "code",
      "source": [
        "#get type\n",
        "print(a.dtype)\n",
        "print(b.dtype)\n",
        "print(c.dtype)"
      ],
      "metadata": {
        "colab": {
          "base_uri": "https://localhost:8080/"
        },
        "id": "POxzOjYRZRUA",
        "outputId": "29fcb2cf-d925-4e59-e593-dfc21cf92549"
      },
      "execution_count": 7,
      "outputs": [
        {
          "output_type": "stream",
          "name": "stdout",
          "text": [
            "int64\n",
            "int64\n",
            "int16\n"
          ]
        }
      ]
    },
    {
      "cell_type": "code",
      "source": [
        "#get size - size of each item (8)\n",
        "print(a.itemsize)\n",
        "print(b.itemsize)\n",
        "print(c.itemsize)"
      ],
      "metadata": {
        "colab": {
          "base_uri": "https://localhost:8080/"
        },
        "id": "A1FEafmwZgDD",
        "outputId": "ae4aa6dc-0af4-461e-e272-a1f278fe1906"
      },
      "execution_count": 8,
      "outputs": [
        {
          "output_type": "stream",
          "name": "stdout",
          "text": [
            "8\n",
            "8\n",
            "2\n"
          ]
        }
      ]
    },
    {
      "cell_type": "code",
      "source": [
        "#get total size - total space used (8)\n",
        "print(a.size * a.itemsize)\n",
        "print(a.nbytes)\n",
        "print(b.nbytes)\n",
        "print(c.nbytes)"
      ],
      "metadata": {
        "colab": {
          "base_uri": "https://localhost:8080/"
        },
        "id": "zuaGLhr2ZyQK",
        "outputId": "7430d7eb-aa6b-4d12-ed07-e1170c248ee8"
      },
      "execution_count": 9,
      "outputs": [
        {
          "output_type": "stream",
          "name": "stdout",
          "text": [
            "24\n",
            "24\n",
            "32\n",
            "6\n"
          ]
        }
      ]
    },
    {
      "cell_type": "code",
      "source": [
        "arr = [range(1,5), range(5,9)] #List of Lists\n",
        "e = np.array(arr) #2nd array\n",
        "print(e)\n",
        "x = e.tolist() # convert array back to list\n",
        "print(type(x))"
      ],
      "metadata": {
        "colab": {
          "base_uri": "https://localhost:8080/"
        },
        "id": "7yxgYvHhaPQ5",
        "outputId": "b14fe45b-e375-441e-f8fe-af4fe82bb808"
      },
      "execution_count": 11,
      "outputs": [
        {
          "output_type": "stream",
          "name": "stdout",
          "text": [
            "[[1 2 3 4]\n",
            " [5 6 7 8]]\n",
            "<class 'list'>\n"
          ]
        }
      ]
    },
    {
      "cell_type": "markdown",
      "source": [
        "**Adding and removing elements from numpy arrays**"
      ],
      "metadata": {
        "id": "BASH5Dgsa8bG"
      }
    },
    {
      "cell_type": "code",
      "source": [
        "a = np.array(np.arange(24)).reshape((2,3,4))\n",
        "a"
      ],
      "metadata": {
        "colab": {
          "base_uri": "https://localhost:8080/"
        },
        "id": "6hv8H529ap6o",
        "outputId": "d63f9f98-f2c3-4abe-adbe-7077fc633063"
      },
      "execution_count": 14,
      "outputs": [
        {
          "output_type": "execute_result",
          "data": {
            "text/plain": [
              "array([[[ 0,  1,  2,  3],\n",
              "        [ 4,  5,  6,  7],\n",
              "        [ 8,  9, 10, 11]],\n",
              "\n",
              "       [[12, 13, 14, 15],\n",
              "        [16, 17, 18, 19],\n",
              "        [20, 21, 22, 23]]])"
            ]
          },
          "metadata": {},
          "execution_count": 14
        }
      ]
    },
    {
      "cell_type": "code",
      "source": [
        "b = np.append(a,[5,6,7,8])\n",
        "b"
      ],
      "metadata": {
        "colab": {
          "base_uri": "https://localhost:8080/"
        },
        "id": "PHk35uvEbc-8",
        "outputId": "74b15a42-ed92-44f9-bfd0-5db9ee499c31"
      },
      "execution_count": 15,
      "outputs": [
        {
          "output_type": "execute_result",
          "data": {
            "text/plain": [
              "array([ 0,  1,  2,  3,  4,  5,  6,  7,  8,  9, 10, 11, 12, 13, 14, 15, 16,\n",
              "       17, 18, 19, 20, 21, 22, 23,  5,  6,  7,  8])"
            ]
          },
          "metadata": {},
          "execution_count": 15
        }
      ]
    },
    {
      "cell_type": "markdown",
      "source": [],
      "metadata": {
        "id": "sGsGJWFsa8Zj"
      }
    },
    {
      "cell_type": "code",
      "source": [
        "b.shape"
      ],
      "metadata": {
        "colab": {
          "base_uri": "https://localhost:8080/"
        },
        "id": "QfxBuNq7b3di",
        "outputId": "604f036b-7419-482e-9a7b-8594be140e3e"
      },
      "execution_count": 16,
      "outputs": [
        {
          "output_type": "execute_result",
          "data": {
            "text/plain": [
              "(28,)"
            ]
          },
          "metadata": {},
          "execution_count": 16
        }
      ]
    },
    {
      "cell_type": "code",
      "source": [
        "b.reshape((7, 4))"
      ],
      "metadata": {
        "colab": {
          "base_uri": "https://localhost:8080/"
        },
        "id": "_rWhRoLkb-IF",
        "outputId": "e950634a-e6e9-4bb4-86b8-c2354876953d"
      },
      "execution_count": 19,
      "outputs": [
        {
          "output_type": "execute_result",
          "data": {
            "text/plain": [
              "array([[ 0,  1,  2,  3],\n",
              "       [ 4,  5,  6,  7],\n",
              "       [ 8,  9, 10, 11],\n",
              "       [12, 13, 14, 15],\n",
              "       [16, 17, 18, 19],\n",
              "       [20, 21, 22, 23],\n",
              "       [ 5,  6,  7,  8]])"
            ]
          },
          "metadata": {},
          "execution_count": 19
        }
      ]
    },
    {
      "cell_type": "code",
      "source": [
        "a"
      ],
      "metadata": {
        "colab": {
          "base_uri": "https://localhost:8080/"
        },
        "id": "1HURrRsUcAim",
        "outputId": "b8633160-a7d6-4d56-a06d-0ef194cb1a85"
      },
      "execution_count": 20,
      "outputs": [
        {
          "output_type": "execute_result",
          "data": {
            "text/plain": [
              "array([[[ 0,  1,  2,  3],\n",
              "        [ 4,  5,  6,  7],\n",
              "        [ 8,  9, 10, 11]],\n",
              "\n",
              "       [[12, 13, 14, 15],\n",
              "        [16, 17, 18, 19],\n",
              "        [20, 21, 22, 23]]])"
            ]
          },
          "metadata": {},
          "execution_count": 20
        }
      ]
    },
    {
      "cell_type": "code",
      "source": [
        "c = np.array(np.arange(24).reshape((2,3,4)) * 10 + 3)\n",
        "c"
      ],
      "metadata": {
        "colab": {
          "base_uri": "https://localhost:8080/"
        },
        "id": "nPNZKlILcQqt",
        "outputId": "c6ef0749-96ad-41aa-a8ae-d82b10aa20dd"
      },
      "execution_count": 22,
      "outputs": [
        {
          "output_type": "execute_result",
          "data": {
            "text/plain": [
              "array([[[  3,  13,  23,  33],\n",
              "        [ 43,  53,  63,  73],\n",
              "        [ 83,  93, 103, 113]],\n",
              "\n",
              "       [[123, 133, 143, 153],\n",
              "        [163, 173, 183, 193],\n",
              "        [203, 213, 223, 233]]])"
            ]
          },
          "metadata": {},
          "execution_count": 22
        }
      ]
    },
    {
      "cell_type": "code",
      "source": [
        "np.append(a,c,axis=0)"
      ],
      "metadata": {
        "colab": {
          "base_uri": "https://localhost:8080/"
        },
        "id": "Jzj86KtUcbBc",
        "outputId": "54870819-844f-4caf-da87-03aa15eb4ecd"
      },
      "execution_count": 24,
      "outputs": [
        {
          "output_type": "execute_result",
          "data": {
            "text/plain": [
              "array([[[  0,   1,   2,   3],\n",
              "        [  4,   5,   6,   7],\n",
              "        [  8,   9,  10,  11]],\n",
              "\n",
              "       [[ 12,  13,  14,  15],\n",
              "        [ 16,  17,  18,  19],\n",
              "        [ 20,  21,  22,  23]],\n",
              "\n",
              "       [[  3,  13,  23,  33],\n",
              "        [ 43,  53,  63,  73],\n",
              "        [ 83,  93, 103, 113]],\n",
              "\n",
              "       [[123, 133, 143, 153],\n",
              "        [163, 173, 183, 193],\n",
              "        [203, 213, 223, 233]]])"
            ]
          },
          "metadata": {},
          "execution_count": 24
        }
      ]
    },
    {
      "cell_type": "code",
      "source": [
        "np.append(a,c,axis=0).shape"
      ],
      "metadata": {
        "colab": {
          "base_uri": "https://localhost:8080/"
        },
        "id": "2AsH5Ah2ch_M",
        "outputId": "75dbd8c4-6001-425b-b995-1f82924211a2"
      },
      "execution_count": 26,
      "outputs": [
        {
          "output_type": "execute_result",
          "data": {
            "text/plain": [
              "(4, 3, 4)"
            ]
          },
          "metadata": {},
          "execution_count": 26
        }
      ]
    },
    {
      "cell_type": "code",
      "source": [
        "np.append(a,c, axis=1)"
      ],
      "metadata": {
        "colab": {
          "base_uri": "https://localhost:8080/"
        },
        "id": "WBzitQHSct7E",
        "outputId": "9137e6a7-4446-40aa-93f1-4401f0902123"
      },
      "execution_count": 33,
      "outputs": [
        {
          "output_type": "execute_result",
          "data": {
            "text/plain": [
              "array([[[  0,   1,   2,   3],\n",
              "        [  4,   5,   6,   7],\n",
              "        [  8,   9,  10,  11],\n",
              "        [  3,  13,  23,  33],\n",
              "        [ 43,  53,  63,  73],\n",
              "        [ 83,  93, 103, 113]],\n",
              "\n",
              "       [[ 12,  13,  14,  15],\n",
              "        [ 16,  17,  18,  19],\n",
              "        [ 20,  21,  22,  23],\n",
              "        [123, 133, 143, 153],\n",
              "        [163, 173, 183, 193],\n",
              "        [203, 213, 223, 233]]])"
            ]
          },
          "metadata": {},
          "execution_count": 33
        }
      ]
    },
    {
      "cell_type": "code",
      "source": [
        "np.append(a,c,axis=1).shape"
      ],
      "metadata": {
        "colab": {
          "base_uri": "https://localhost:8080/"
        },
        "id": "0z3ip3s0c4d7",
        "outputId": "00fe1a76-996b-437f-cb62-1295bcaca593"
      },
      "execution_count": 34,
      "outputs": [
        {
          "output_type": "execute_result",
          "data": {
            "text/plain": [
              "(2, 6, 4)"
            ]
          },
          "metadata": {},
          "execution_count": 34
        }
      ]
    },
    {
      "cell_type": "code",
      "source": [
        "np.append(a,c, axis=2)"
      ],
      "metadata": {
        "colab": {
          "base_uri": "https://localhost:8080/"
        },
        "id": "9LGuKyhhc9zT",
        "outputId": "7f2d7676-6717-4a35-a580-c429f9213e4e"
      },
      "execution_count": 35,
      "outputs": [
        {
          "output_type": "execute_result",
          "data": {
            "text/plain": [
              "array([[[  0,   1,   2,   3,   3,  13,  23,  33],\n",
              "        [  4,   5,   6,   7,  43,  53,  63,  73],\n",
              "        [  8,   9,  10,  11,  83,  93, 103, 113]],\n",
              "\n",
              "       [[ 12,  13,  14,  15, 123, 133, 143, 153],\n",
              "        [ 16,  17,  18,  19, 163, 173, 183, 193],\n",
              "        [ 20,  21,  22,  23, 203, 213, 223, 233]]])"
            ]
          },
          "metadata": {},
          "execution_count": 35
        }
      ]
    },
    {
      "cell_type": "code",
      "source": [
        "np.append(a,c, axis=2).shape"
      ],
      "metadata": {
        "colab": {
          "base_uri": "https://localhost:8080/"
        },
        "id": "rJtQDwG-dg67",
        "outputId": "20153200-f675-4b99-dafb-b006a563bc93"
      },
      "execution_count": 37,
      "outputs": [
        {
          "output_type": "execute_result",
          "data": {
            "text/plain": [
              "(2, 3, 8)"
            ]
          },
          "metadata": {},
          "execution_count": 37
        }
      ]
    },
    {
      "cell_type": "code",
      "source": [
        "after_insert_array = np.insert(c,1,444, axis=0)\n",
        "after_insert_array"
      ],
      "metadata": {
        "colab": {
          "base_uri": "https://localhost:8080/"
        },
        "id": "x_QSTiNVdjki",
        "outputId": "6f48f9cc-f4e4-40d2-db3c-0cb5b74956f1"
      },
      "execution_count": 38,
      "outputs": [
        {
          "output_type": "execute_result",
          "data": {
            "text/plain": [
              "array([[[  3,  13,  23,  33],\n",
              "        [ 43,  53,  63,  73],\n",
              "        [ 83,  93, 103, 113]],\n",
              "\n",
              "       [[444, 444, 444, 444],\n",
              "        [444, 444, 444, 444],\n",
              "        [444, 444, 444, 444]],\n",
              "\n",
              "       [[123, 133, 143, 153],\n",
              "        [163, 173, 183, 193],\n",
              "        [203, 213, 223, 233]]])"
            ]
          },
          "metadata": {},
          "execution_count": 38
        }
      ]
    },
    {
      "cell_type": "code",
      "source": [
        "after_insert_array = np.insert(c,1,444,axis=1)\n",
        "after_insert_array"
      ],
      "metadata": {
        "colab": {
          "base_uri": "https://localhost:8080/"
        },
        "id": "WA7EnBCAeDLp",
        "outputId": "af81ad18-c561-4fc5-e5e7-23bbb5706165"
      },
      "execution_count": 39,
      "outputs": [
        {
          "output_type": "execute_result",
          "data": {
            "text/plain": [
              "array([[[  3,  13,  23,  33],\n",
              "        [444, 444, 444, 444],\n",
              "        [ 43,  53,  63,  73],\n",
              "        [ 83,  93, 103, 113]],\n",
              "\n",
              "       [[123, 133, 143, 153],\n",
              "        [444, 444, 444, 444],\n",
              "        [163, 173, 183, 193],\n",
              "        [203, 213, 223, 233]]])"
            ]
          },
          "metadata": {},
          "execution_count": 39
        }
      ]
    },
    {
      "cell_type": "code",
      "source": [
        "after_insert_array = np.insert(c,1,444,axis=2)\n",
        "after_insert_array"
      ],
      "metadata": {
        "colab": {
          "base_uri": "https://localhost:8080/"
        },
        "id": "1YGwSWgieTAo",
        "outputId": "419fd0e9-4b50-474a-903c-77da32c6259d"
      },
      "execution_count": 41,
      "outputs": [
        {
          "output_type": "execute_result",
          "data": {
            "text/plain": [
              "array([[[  3, 444,  13,  23,  33],\n",
              "        [ 43, 444,  53,  63,  73],\n",
              "        [ 83, 444,  93, 103, 113]],\n",
              "\n",
              "       [[123, 444, 133, 143, 153],\n",
              "        [163, 444, 173, 183, 193],\n",
              "        [203, 444, 213, 223, 233]]])"
            ]
          },
          "metadata": {},
          "execution_count": 41
        }
      ]
    },
    {
      "cell_type": "code",
      "source": [
        "d=np.empty(c.shape)\n",
        "np.copyto(d,c)\n",
        "d"
      ],
      "metadata": {
        "colab": {
          "base_uri": "https://localhost:8080/"
        },
        "id": "w-r3SLzEen8_",
        "outputId": "c557e38b-fc39-4cad-cd82-fd7dc11201af"
      },
      "execution_count": 43,
      "outputs": [
        {
          "output_type": "execute_result",
          "data": {
            "text/plain": [
              "array([[[  3.,  13.,  23.,  33.],\n",
              "        [ 43.,  53.,  63.,  73.],\n",
              "        [ 83.,  93., 103., 113.]],\n",
              "\n",
              "       [[123., 133., 143., 153.],\n",
              "        [163., 173., 183., 193.],\n",
              "        [203., 213., 223., 233.]]])"
            ]
          },
          "metadata": {},
          "execution_count": 43
        }
      ]
    },
    {
      "cell_type": "code",
      "source": [
        "np.delete(d,1,axis=0)"
      ],
      "metadata": {
        "colab": {
          "base_uri": "https://localhost:8080/"
        },
        "id": "LiQKuJOjezi4",
        "outputId": "da07c7ce-fafa-433e-cbdb-107857e843a3"
      },
      "execution_count": 44,
      "outputs": [
        {
          "output_type": "execute_result",
          "data": {
            "text/plain": [
              "array([[[  3.,  13.,  23.,  33.],\n",
              "        [ 43.,  53.,  63.,  73.],\n",
              "        [ 83.,  93., 103., 113.]]])"
            ]
          },
          "metadata": {},
          "execution_count": 44
        }
      ]
    },
    {
      "cell_type": "code",
      "source": [
        "np.delete(d,1,axis=1)"
      ],
      "metadata": {
        "colab": {
          "base_uri": "https://localhost:8080/"
        },
        "id": "d7BlZT2Ze8x_",
        "outputId": "f17728fd-3e4f-490e-95a3-f37fe2ab9731"
      },
      "execution_count": 45,
      "outputs": [
        {
          "output_type": "execute_result",
          "data": {
            "text/plain": [
              "array([[[  3.,  13.,  23.,  33.],\n",
              "        [ 83.,  93., 103., 113.]],\n",
              "\n",
              "       [[123., 133., 143., 153.],\n",
              "        [203., 213., 223., 233.]]])"
            ]
          },
          "metadata": {},
          "execution_count": 45
        }
      ]
    },
    {
      "cell_type": "code",
      "source": [
        "np.delete(d,1,axis=2)"
      ],
      "metadata": {
        "colab": {
          "base_uri": "https://localhost:8080/"
        },
        "id": "fItWTouNfBi_",
        "outputId": "e640d20b-b4c9-45c5-90b2-1196beb49d56"
      },
      "execution_count": 46,
      "outputs": [
        {
          "output_type": "execute_result",
          "data": {
            "text/plain": [
              "array([[[  3.,  23.,  33.],\n",
              "        [ 43.,  63.,  73.],\n",
              "        [ 83., 103., 113.]],\n",
              "\n",
              "       [[123., 143., 153.],\n",
              "        [163., 183., 193.],\n",
              "        [203., 223., 233.]]])"
            ]
          },
          "metadata": {},
          "execution_count": 46
        }
      ]
    },
    {
      "cell_type": "code",
      "source": [
        "np.delete(d,1,axis=2)"
      ],
      "metadata": {
        "colab": {
          "base_uri": "https://localhost:8080/"
        },
        "id": "DuHBUj0PfD0v",
        "outputId": "46e4ad6a-5291-48c6-de80-51072236ddc1"
      },
      "execution_count": 47,
      "outputs": [
        {
          "output_type": "execute_result",
          "data": {
            "text/plain": [
              "array([[[  3.,  23.,  33.],\n",
              "        [ 43.,  63.,  73.],\n",
              "        [ 83., 103., 113.]],\n",
              "\n",
              "       [[123., 143., 153.],\n",
              "        [163., 183., 193.],\n",
              "        [203., 223., 233.]]])"
            ]
          },
          "metadata": {},
          "execution_count": 47
        }
      ]
    },
    {
      "cell_type": "markdown",
      "source": [
        "**Accessing/Changing specific elements, rows, columns, etc**"
      ],
      "metadata": {
        "id": "wp-fASv7fNBb"
      }
    },
    {
      "cell_type": "code",
      "source": [
        "a = np.array([[1,2, 3, 4, 5, 6, 7], [8, 9, 10, 11, 12, 13, 14]])\n",
        "print(a)\n",
        "print(a.shape)\n"
      ],
      "metadata": {
        "colab": {
          "base_uri": "https://localhost:8080/"
        },
        "id": "7GIToHuAfUev",
        "outputId": "e799d8aa-43b3-4843-f8b6-60f3c04df086"
      },
      "execution_count": 48,
      "outputs": [
        {
          "output_type": "stream",
          "name": "stdout",
          "text": [
            "[[ 1  2  3  4  5  6  7]\n",
            " [ 8  9 10 11 12 13 14]]\n",
            "(2, 7)\n"
          ]
        }
      ]
    },
    {
      "cell_type": "code",
      "source": [
        "# get a specific element [r, c]\n",
        "print(a[1, 5])\n",
        "print(a[1][5])\n",
        "print(a[1][-2])\n"
      ],
      "metadata": {
        "colab": {
          "base_uri": "https://localhost:8080/"
        },
        "id": "w49u4yVvfJRX",
        "outputId": "9f3d728f-e265-4e51-d138-c0d65c52446a"
      },
      "execution_count": 49,
      "outputs": [
        {
          "output_type": "stream",
          "name": "stdout",
          "text": [
            "13\n",
            "13\n",
            "13\n"
          ]
        }
      ]
    },
    {
      "cell_type": "code",
      "source": [
        "#  get a specific row\n",
        "a[0, :]"
      ],
      "metadata": {
        "colab": {
          "base_uri": "https://localhost:8080/"
        },
        "id": "gRLG04Isfi32",
        "outputId": "dede570a-348a-4ed9-9934-538ad0f9d4c6"
      },
      "execution_count": 50,
      "outputs": [
        {
          "output_type": "execute_result",
          "data": {
            "text/plain": [
              "array([1, 2, 3, 4, 5, 6, 7])"
            ]
          },
          "metadata": {},
          "execution_count": 50
        }
      ]
    },
    {
      "cell_type": "code",
      "source": [
        "# get a specific col\n",
        "a[:, 2]\n"
      ],
      "metadata": {
        "colab": {
          "base_uri": "https://localhost:8080/"
        },
        "id": "HZKRJsS3fxoN",
        "outputId": "f646dfc7-17c5-40f5-f8c9-325b6f00b85a"
      },
      "execution_count": 51,
      "outputs": [
        {
          "output_type": "execute_result",
          "data": {
            "text/plain": [
              "array([ 3, 10])"
            ]
          },
          "metadata": {},
          "execution_count": 51
        }
      ]
    },
    {
      "cell_type": "code",
      "source": [
        "# getting fancy [startindex: endindex: stepsize]\n",
        "print(a[0, 1:6:2])"
      ],
      "metadata": {
        "colab": {
          "base_uri": "https://localhost:8080/"
        },
        "id": "tXQoRMn5f0M-",
        "outputId": "1e29171e-c6e5-4e96-807c-b21595f0f9ce"
      },
      "execution_count": 55,
      "outputs": [
        {
          "output_type": "stream",
          "name": "stdout",
          "text": [
            "[2 4 6]\n"
          ]
        }
      ]
    },
    {
      "cell_type": "code",
      "source": [
        "#Changing element(s)\n",
        "a[1,5] = 20\n",
        "print(a)\n",
        "print('---------')\n",
        "a[:, 2] = 5\n",
        "print(a)\n",
        "print('---------')\n",
        "a[:,2] = [1, 2]\n",
        "print(a)\n"
      ],
      "metadata": {
        "colab": {
          "base_uri": "https://localhost:8080/"
        },
        "id": "RH328A41f_AV",
        "outputId": "8094a230-1886-4858-cc15-51d90445145f"
      },
      "execution_count": 56,
      "outputs": [
        {
          "output_type": "stream",
          "name": "stdout",
          "text": [
            "[[ 1  2  3  4  5  6  7]\n",
            " [ 8  9 10 11 12 20 14]]\n",
            "---------\n",
            "[[ 1  2  5  4  5  6  7]\n",
            " [ 8  9  5 11 12 20 14]]\n",
            "---------\n",
            "[[ 1  2  1  4  5  6  7]\n",
            " [ 8  9  2 11 12 20 14]]\n"
          ]
        }
      ]
    },
    {
      "cell_type": "code",
      "source": [
        "a= np.array([[[1,2], [3,4]],[[5,6],[7,8]]])\n",
        "print(a)\n",
        "print('------------')\n",
        "print(a.shape)\n",
        "\n",
        "#think of number of rows as original number of rows\n",
        "#inside each box columns become rows and depth becomes columns\n",
        "#tink of it as [1,2] at at position a[0,0]\n",
        "\n",
        "#Numpy's order for printig n-dimensional arrays is that the last slowest "
      ],
      "metadata": {
        "colab": {
          "base_uri": "https://localhost:8080/"
        },
        "id": "vBi_Ts7ciFxx",
        "outputId": "3a463c15-04dc-49aa-bdab-ed9e486e0220"
      },
      "execution_count": 57,
      "outputs": [
        {
          "output_type": "stream",
          "name": "stdout",
          "text": [
            "[[[1 2]\n",
            "  [3 4]]\n",
            "\n",
            " [[5 6]\n",
            "  [7 8]]]\n",
            "------------\n",
            "(2, 2, 2)\n"
          ]
        }
      ]
    },
    {
      "cell_type": "code",
      "source": [
        "print(a[0,0])\n",
        "print(a[0,1])\n",
        "print(a[1,0])\n",
        "print(a[1,1])\n",
        "\n",
        "#get specific element\n",
        "print(a[0,1,1])"
      ],
      "metadata": {
        "colab": {
          "base_uri": "https://localhost:8080/"
        },
        "id": "sZ61tCPQjJRm",
        "outputId": "3c276bcf-b296-4f2a-e156-331143e22404"
      },
      "execution_count": 58,
      "outputs": [
        {
          "output_type": "stream",
          "name": "stdout",
          "text": [
            "[1 2]\n",
            "[3 4]\n",
            "[5 6]\n",
            "[7 8]\n",
            "4\n"
          ]
        }
      ]
    },
    {
      "cell_type": "code",
      "source": [
        "# replace\n",
        "\n",
        "a[:, 1, :] = [[10,11],[12,13]]\n",
        "print(a)\n",
        "print('-----------')\n",
        "\n",
        "a[0, 1, :] = [99,98]\n",
        "print(a)"
      ],
      "metadata": {
        "colab": {
          "base_uri": "https://localhost:8080/"
        },
        "id": "QAT1WBDljcKd",
        "outputId": "03d63881-d7f0-4b9b-cace-44c042a9c9d9"
      },
      "execution_count": 59,
      "outputs": [
        {
          "output_type": "stream",
          "name": "stdout",
          "text": [
            "[[[ 1  2]\n",
            "  [10 11]]\n",
            "\n",
            " [[ 5  6]\n",
            "  [12 13]]]\n",
            "-----------\n",
            "[[[ 1  2]\n",
            "  [99 98]]\n",
            "\n",
            " [[ 5  6]\n",
            "  [12 13]]]\n"
          ]
        }
      ]
    },
    {
      "cell_type": "markdown",
      "source": [
        "**Initializing different type of arrays**"
      ],
      "metadata": {
        "id": "eizeH5vDkE9R"
      }
    },
    {
      "cell_type": "code",
      "source": [
        "#all 0's matrix\n",
        "np.zeros(shape=(2,3))"
      ],
      "metadata": {
        "colab": {
          "base_uri": "https://localhost:8080/"
        },
        "id": "l4km6VIukAF1",
        "outputId": "68255300-04e0-4b62-d508-621b1dafaa29"
      },
      "execution_count": 61,
      "outputs": [
        {
          "output_type": "execute_result",
          "data": {
            "text/plain": [
              "array([[0., 0., 0.],\n",
              "       [0., 0., 0.]])"
            ]
          },
          "metadata": {},
          "execution_count": 61
        }
      ]
    },
    {
      "cell_type": "code",
      "source": [
        "#all 1's matrix\n",
        "np.ones((4,2,2), dtype='int32')"
      ],
      "metadata": {
        "colab": {
          "base_uri": "https://localhost:8080/"
        },
        "id": "sINhj39UkIKD",
        "outputId": "7a79138e-db0b-4e54-8928-e53896d83915"
      },
      "execution_count": 64,
      "outputs": [
        {
          "output_type": "execute_result",
          "data": {
            "text/plain": [
              "array([[[1, 1],\n",
              "        [1, 1]],\n",
              "\n",
              "       [[1, 1],\n",
              "        [1, 1]],\n",
              "\n",
              "       [[1, 1],\n",
              "        [1, 1]],\n",
              "\n",
              "       [[1, 1],\n",
              "        [1, 1]]], dtype=int32)"
            ]
          },
          "metadata": {},
          "execution_count": 64
        }
      ]
    },
    {
      "cell_type": "code",
      "source": [
        "#any other number\n",
        "np.full((2,2),99)"
      ],
      "metadata": {
        "colab": {
          "base_uri": "https://localhost:8080/"
        },
        "id": "7G8qGGjdkkd8",
        "outputId": "6963f601-01d4-4def-d368-ab8741a15678"
      },
      "execution_count": 65,
      "outputs": [
        {
          "output_type": "execute_result",
          "data": {
            "text/plain": [
              "array([[99, 99],\n",
              "       [99, 99]])"
            ]
          },
          "metadata": {},
          "execution_count": 65
        }
      ]
    },
    {
      "cell_type": "code",
      "source": [
        "#any other number (full_like)\n",
        "a= np.array([[1,2,3,4,5,6,7],[8,9,10,11,12,13,14]])\n",
        "np.full_like(a,8)"
      ],
      "metadata": {
        "colab": {
          "base_uri": "https://localhost:8080/"
        },
        "id": "MLs8DImwk7Ab",
        "outputId": "9f3b7ec2-89d3-489d-8cf7-1ad3e0b09f15"
      },
      "execution_count": 66,
      "outputs": [
        {
          "output_type": "execute_result",
          "data": {
            "text/plain": [
              "array([[8, 8, 8, 8, 8, 8, 8],\n",
              "       [8, 8, 8, 8, 8, 8, 8]])"
            ]
          },
          "metadata": {},
          "execution_count": 66
        }
      ]
    },
    {
      "cell_type": "code",
      "source": [
        "# random decimal numbers\n",
        "np.random.rand(4,2,3)"
      ],
      "metadata": {
        "colab": {
          "base_uri": "https://localhost:8080/"
        },
        "id": "murn1FfRladq",
        "outputId": "1855d3a2-d72e-4513-ddf7-65962234d599"
      },
      "execution_count": 67,
      "outputs": [
        {
          "output_type": "execute_result",
          "data": {
            "text/plain": [
              "array([[[0.46532789, 0.38118664, 0.74008862],\n",
              "        [0.93404053, 0.37484192, 0.92885601]],\n",
              "\n",
              "       [[0.06795414, 0.0680727 , 0.36444648],\n",
              "        [0.16147555, 0.37261316, 0.46825648]],\n",
              "\n",
              "       [[0.84522268, 0.23936176, 0.38455569],\n",
              "        [0.5482537 , 0.85656253, 0.87727173]],\n",
              "\n",
              "       [[0.12206647, 0.32191211, 0.27378656],\n",
              "        [0.9159989 , 0.48158567, 0.04244544]]])"
            ]
          },
          "metadata": {},
          "execution_count": 67
        }
      ]
    },
    {
      "cell_type": "code",
      "source": [
        "np.random.random_sample(a.shape)"
      ],
      "metadata": {
        "colab": {
          "base_uri": "https://localhost:8080/"
        },
        "id": "J8ge70Y7ltCZ",
        "outputId": "49564d69-0296-410f-f01b-8f51b88b276a"
      },
      "execution_count": 68,
      "outputs": [
        {
          "output_type": "execute_result",
          "data": {
            "text/plain": [
              "array([[0.48967732, 0.47785215, 0.30636349, 0.20890771, 0.27289285,\n",
              "        0.35478064, 0.80649152],\n",
              "       [0.1584656 , 0.81318135, 0.96977893, 0.74914422, 0.88157142,\n",
              "        0.41838737, 0.59202473]])"
            ]
          },
          "metadata": {},
          "execution_count": 68
        }
      ]
    },
    {
      "cell_type": "code",
      "source": [
        "#random integer values\n",
        "print(np.random.randint(7))\n",
        "print(np.random.randint(7, size=(3,3)))"
      ],
      "metadata": {
        "colab": {
          "base_uri": "https://localhost:8080/"
        },
        "id": "m2118CKLvJyV",
        "outputId": "1a16318f-f1c7-4f92-fa51-a59bc2f2950e"
      },
      "execution_count": 70,
      "outputs": [
        {
          "output_type": "stream",
          "name": "stdout",
          "text": [
            "6\n",
            "[[1 3 3]\n",
            " [0 0 2]\n",
            " [6 5 6]]\n"
          ]
        }
      ]
    },
    {
      "cell_type": "code",
      "source": [
        "#identity matrix\n",
        "np.identity(3)"
      ],
      "metadata": {
        "colab": {
          "base_uri": "https://localhost:8080/"
        },
        "id": "9bIs1xqkwDDc",
        "outputId": "0654eff1-6cc4-456c-ac00-7fe3532c404d"
      },
      "execution_count": 71,
      "outputs": [
        {
          "output_type": "execute_result",
          "data": {
            "text/plain": [
              "array([[1., 0., 0.],\n",
              "       [0., 1., 0.],\n",
              "       [0., 0., 1.]])"
            ]
          },
          "metadata": {},
          "execution_count": 71
        }
      ]
    },
    {
      "cell_type": "code",
      "source": [
        "print(np.logspace(0,3,4)) #10^0 to 10^3 (incusive) with 4 points"
      ],
      "metadata": {
        "colab": {
          "base_uri": "https://localhost:8080/"
        },
        "id": "vfsFO--7w-Gq",
        "outputId": "40f6c0b4-207f-4802-83a3-c6d76c4140b3"
      },
      "execution_count": 72,
      "outputs": [
        {
          "output_type": "stream",
          "name": "stdout",
          "text": [
            "[   1.   10.  100. 1000.]\n"
          ]
        }
      ]
    },
    {
      "cell_type": "code",
      "source": [
        "#repeat an array\n",
        "\n",
        "arr = np.array([[1,2,3]])\n",
        "r1 = np.repeat(arr,3,axis=0)\n",
        "print(r1)\n",
        "print('---------')\n",
        "r2= np.repeat(arr, 3, axis=1)\n",
        "print(r2)\n"
      ],
      "metadata": {
        "colab": {
          "base_uri": "https://localhost:8080/"
        },
        "id": "Iq_8D1nBxMij",
        "outputId": "b5204ff5-3401-4e64-aab3-683e7839a09a"
      },
      "execution_count": 73,
      "outputs": [
        {
          "output_type": "stream",
          "name": "stdout",
          "text": [
            "[[1 2 3]\n",
            " [1 2 3]\n",
            " [1 2 3]]\n",
            "---------\n",
            "[[1 1 1 2 2 2 3 3 3]]\n"
          ]
        }
      ]
    },
    {
      "cell_type": "code",
      "source": [
        "#Creating a customized matrix\n",
        "output = np.ones((5,5))\n",
        "print(output)\n",
        "print('-----------')\n",
        "\n",
        "z = np.zeros((3,3))\n",
        "z[1,1] = 9\n",
        "print(z)\n",
        "print('---------------')\n",
        "\n",
        "output[1:4,1:4]=z\n",
        "print(output)\n",
        "\n"
      ],
      "metadata": {
        "colab": {
          "base_uri": "https://localhost:8080/"
        },
        "id": "RoQ57ZyLxlxo",
        "outputId": "386e53a2-2171-4211-be07-ef383e0be69a"
      },
      "execution_count": 74,
      "outputs": [
        {
          "output_type": "stream",
          "name": "stdout",
          "text": [
            "[[1. 1. 1. 1. 1.]\n",
            " [1. 1. 1. 1. 1.]\n",
            " [1. 1. 1. 1. 1.]\n",
            " [1. 1. 1. 1. 1.]\n",
            " [1. 1. 1. 1. 1.]]\n",
            "-----------\n",
            "[[0. 0. 0.]\n",
            " [0. 9. 0.]\n",
            " [0. 0. 0.]]\n",
            "---------------\n",
            "[[1. 1. 1. 1. 1.]\n",
            " [1. 0. 0. 0. 1.]\n",
            " [1. 0. 9. 0. 1.]\n",
            " [1. 0. 0. 0. 1.]\n",
            " [1. 1. 1. 1. 1.]]\n"
          ]
        }
      ]
    },
    {
      "cell_type": "code",
      "source": [
        "#careful while copying\n",
        "a=np.array([1,2,3])\n",
        "b=a#just points\n",
        "b[0]=100\n",
        "print(a)\n",
        "print(b)\n",
        "\n",
        "\n",
        "a = np.array([1, 2, 3])\n",
        "b = a.copy()\n",
        "b [0]= 100\n",
        "print(a)\n",
        "print(b)\n"
      ],
      "metadata": {
        "colab": {
          "base_uri": "https://localhost:8080/"
        },
        "id": "MX1IoCDt5CkS",
        "outputId": "442ea92f-1a37-4ee5-86a4-595d4c2e56e9"
      },
      "execution_count": 76,
      "outputs": [
        {
          "output_type": "stream",
          "name": "stdout",
          "text": [
            "[100   2   3]\n",
            "[100   2   3]\n",
            "[1 2 3]\n",
            "[100   2   3]\n"
          ]
        }
      ]
    },
    {
      "cell_type": "code",
      "source": [
        "#adding an axis\n",
        "a=np.array([0,1])\n",
        "a_col = a[:, np.newaxis]\n",
        "print(a_col)\n",
        "\n",
        "\n",
        "\n"
      ],
      "metadata": {
        "colab": {
          "base_uri": "https://localhost:8080/"
        },
        "id": "8vrRYon35U6J",
        "outputId": "300148e9-bf43-4514-b6ed-1ad4e017cb7e"
      },
      "execution_count": 77,
      "outputs": [
        {
          "output_type": "stream",
          "name": "stdout",
          "text": [
            "[[0]\n",
            " [1]]\n"
          ]
        }
      ]
    },
    {
      "cell_type": "code",
      "source": [
        "a_col.T"
      ],
      "metadata": {
        "colab": {
          "base_uri": "https://localhost:8080/"
        },
        "id": "7ziRuYCfIU3y",
        "outputId": "e4075f93-9182-4570-f431-6cd0b703bacc"
      },
      "execution_count": 79,
      "outputs": [
        {
          "output_type": "execute_result",
          "data": {
            "text/plain": [
              "array([[0, 1]])"
            ]
          },
          "metadata": {},
          "execution_count": 79
        }
      ]
    },
    {
      "cell_type": "code",
      "source": [
        "#flattern array\n",
        "#always return a flat copy of the original array\n",
        "arr = np.arange(10,dtype=float).reshape((2,5))\n",
        "arr_flat = arr.flatten()\n",
        "arr_flat[0] = 33\n",
        "\n",
        "print(arr)\n",
        "print(arr_flat)"
      ],
      "metadata": {
        "colab": {
          "base_uri": "https://localhost:8080/"
        },
        "id": "SorD0QJEIXZb",
        "outputId": "5e0b33d6-3c18-4a55-ec6c-aa8aeb7ad1ca"
      },
      "execution_count": 82,
      "outputs": [
        {
          "output_type": "stream",
          "name": "stdout",
          "text": [
            "[[0. 1. 2. 3. 4.]\n",
            " [5. 6. 7. 8. 9.]]\n",
            "[33.  1.  2.  3.  4.  5.  6.  7.  8.  9.]\n"
          ]
        }
      ]
    },
    {
      "cell_type": "code",
      "source": [
        "#Ravel: returns a view of te original array whenever possible.\n",
        "arr_flt = arr.ravel()\n",
        "arr_flt[0] = 33\n",
        "\n",
        "print(arr)\n",
        "print(arr_flt)"
      ],
      "metadata": {
        "colab": {
          "base_uri": "https://localhost:8080/"
        },
        "id": "Y1WRXBqkI115",
        "outputId": "62390fea-b05a-479a-ca23-6cc8bfa3dbe5"
      },
      "execution_count": 84,
      "outputs": [
        {
          "output_type": "stream",
          "name": "stdout",
          "text": [
            "[[33.  1.  2.  3.  4.]\n",
            " [ 5.  6.  7.  8.  9.]]\n",
            "[33.  1.  2.  3.  4.  5.  6.  7.  8.  9.]\n"
          ]
        }
      ]
    },
    {
      "cell_type": "code",
      "source": [
        "#creating evenly spaced number over an specified interval\n",
        "\n",
        "np.linspace(start =0, stop=50, num=10)\n",
        "np.linspace(5,15,10)\n",
        "mylinspace = np.linspace(5,15,9,retstep=True)\n",
        "mylinspace\n"
      ],
      "metadata": {
        "colab": {
          "base_uri": "https://localhost:8080/"
        },
        "id": "BrtQcnZuJMwg",
        "outputId": "c6a10023-a7cf-46ee-9feb-e15700eddd82"
      },
      "execution_count": 85,
      "outputs": [
        {
          "output_type": "execute_result",
          "data": {
            "text/plain": [
              "(array([ 5.  ,  6.25,  7.5 ,  8.75, 10.  , 11.25, 12.5 , 13.75, 15.  ]), 1.25)"
            ]
          },
          "metadata": {},
          "execution_count": 85
        }
      ]
    },
    {
      "cell_type": "markdown",
      "source": [
        "**Mathematics**"
      ],
      "metadata": {
        "id": "o6UPp7kqLXIw"
      }
    },
    {
      "cell_type": "code",
      "source": [
        "a = np.array([1,2,3,4])\n",
        "print(a)"
      ],
      "metadata": {
        "colab": {
          "base_uri": "https://localhost:8080/"
        },
        "id": "NhUDu7XgLPx8",
        "outputId": "da94025a-b91d-4d33-8e95-4a22861eef69"
      },
      "execution_count": 88,
      "outputs": [
        {
          "output_type": "stream",
          "name": "stdout",
          "text": [
            "[1 2 3 4]\n"
          ]
        }
      ]
    },
    {
      "cell_type": "code",
      "source": [
        "a+2"
      ],
      "metadata": {
        "colab": {
          "base_uri": "https://localhost:8080/"
        },
        "id": "7KKvjWgfLkOr",
        "outputId": "f66dc813-d9af-445d-d08a-a7e500696688"
      },
      "execution_count": 89,
      "outputs": [
        {
          "output_type": "execute_result",
          "data": {
            "text/plain": [
              "array([3, 4, 5, 6])"
            ]
          },
          "metadata": {},
          "execution_count": 89
        }
      ]
    },
    {
      "cell_type": "code",
      "source": [
        "a-2"
      ],
      "metadata": {
        "colab": {
          "base_uri": "https://localhost:8080/"
        },
        "id": "BD6stbf9Ll1b",
        "outputId": "8ca69a1a-3c82-4940-ba37-165588bfabb0"
      },
      "execution_count": 90,
      "outputs": [
        {
          "output_type": "execute_result",
          "data": {
            "text/plain": [
              "array([-1,  0,  1,  2])"
            ]
          },
          "metadata": {},
          "execution_count": 90
        }
      ]
    },
    {
      "cell_type": "code",
      "source": [
        "a/2"
      ],
      "metadata": {
        "colab": {
          "base_uri": "https://localhost:8080/"
        },
        "id": "yxw9ItIkLn6T",
        "outputId": "96535bbd-9409-4a32-9597-afadaf664ac4"
      },
      "execution_count": 91,
      "outputs": [
        {
          "output_type": "execute_result",
          "data": {
            "text/plain": [
              "array([0.5, 1. , 1.5, 2. ])"
            ]
          },
          "metadata": {},
          "execution_count": 91
        }
      ]
    },
    {
      "cell_type": "code",
      "source": [
        "b=np.array([1,0,1,0])"
      ],
      "metadata": {
        "id": "rVX8C2h3Lpvj"
      },
      "execution_count": 92,
      "outputs": []
    },
    {
      "cell_type": "code",
      "source": [
        "a+b"
      ],
      "metadata": {
        "colab": {
          "base_uri": "https://localhost:8080/"
        },
        "id": "t5NPsxBCLvzr",
        "outputId": "6f1ed908-df75-4552-98c0-fb7d9d43e31a"
      },
      "execution_count": 93,
      "outputs": [
        {
          "output_type": "execute_result",
          "data": {
            "text/plain": [
              "array([2, 2, 4, 4])"
            ]
          },
          "metadata": {},
          "execution_count": 93
        }
      ]
    },
    {
      "cell_type": "code",
      "source": [
        "np.sin(a)"
      ],
      "metadata": {
        "colab": {
          "base_uri": "https://localhost:8080/"
        },
        "id": "C_aIBmn9Lxtj",
        "outputId": "ee8e9a30-844b-4097-bc19-07771c915ceb"
      },
      "execution_count": 94,
      "outputs": [
        {
          "output_type": "execute_result",
          "data": {
            "text/plain": [
              "array([ 0.84147098,  0.90929743,  0.14112001, -0.7568025 ])"
            ]
          },
          "metadata": {},
          "execution_count": 94
        }
      ]
    },
    {
      "cell_type": "markdown",
      "source": [
        "**Linear algebra**"
      ],
      "metadata": {
        "id": "GRsiKbpTMBCo"
      }
    },
    {
      "cell_type": "code",
      "source": [
        "my_first_matrix = np.matrix([[3,1,4],[1,5,9],[2,6,5]])\n",
        "my_first_matrix"
      ],
      "metadata": {
        "colab": {
          "base_uri": "https://localhost:8080/"
        },
        "id": "7SHyAcd-L6Db",
        "outputId": "a33fc45a-6426-4d07-c1f6-e59589bc8f92"
      },
      "execution_count": 96,
      "outputs": [
        {
          "output_type": "execute_result",
          "data": {
            "text/plain": [
              "matrix([[3, 1, 4],\n",
              "        [1, 5, 9],\n",
              "        [2, 6, 5]])"
            ]
          },
          "metadata": {},
          "execution_count": 96
        }
      ]
    },
    {
      "cell_type": "code",
      "source": [
        "my_first_matrix.T"
      ],
      "metadata": {
        "colab": {
          "base_uri": "https://localhost:8080/"
        },
        "id": "NXlMzdn9MEV7",
        "outputId": "c66640d5-bdae-49fd-95c0-f58c2e0caf4e"
      },
      "execution_count": 97,
      "outputs": [
        {
          "output_type": "execute_result",
          "data": {
            "text/plain": [
              "matrix([[3, 1, 2],\n",
              "        [1, 5, 6],\n",
              "        [4, 9, 5]])"
            ]
          },
          "metadata": {},
          "execution_count": 97
        }
      ]
    },
    {
      "cell_type": "code",
      "source": [
        "my_first_matrix.I"
      ],
      "metadata": {
        "colab": {
          "base_uri": "https://localhost:8080/"
        },
        "id": "4rDsjk6fMTbi",
        "outputId": "92a965b7-511d-4f4e-b6c5-ccd255169199"
      },
      "execution_count": 98,
      "outputs": [
        {
          "output_type": "execute_result",
          "data": {
            "text/plain": [
              "matrix([[ 0.32222222, -0.21111111,  0.12222222],\n",
              "        [-0.14444444, -0.07777778,  0.25555556],\n",
              "        [ 0.04444444,  0.17777778, -0.15555556]])"
            ]
          },
          "metadata": {},
          "execution_count": 98
        }
      ]
    },
    {
      "cell_type": "code",
      "source": [
        "a=np.ones((2,3))\n",
        "print(a)"
      ],
      "metadata": {
        "colab": {
          "base_uri": "https://localhost:8080/"
        },
        "id": "rTBY-kybMZbp",
        "outputId": "9b78f9b0-b556-4c56-fd3d-a143eb8837a8"
      },
      "execution_count": 101,
      "outputs": [
        {
          "output_type": "stream",
          "name": "stdout",
          "text": [
            "[[1. 1. 1.]\n",
            " [1. 1. 1.]]\n"
          ]
        }
      ]
    },
    {
      "cell_type": "code",
      "source": [
        "b=np.full((3,2),2)\n",
        "print(b)"
      ],
      "metadata": {
        "colab": {
          "base_uri": "https://localhost:8080/"
        },
        "id": "vyltKyMCMf-B",
        "outputId": "646b7437-4992-48c5-a925-b09a6d1e8c64"
      },
      "execution_count": 102,
      "outputs": [
        {
          "output_type": "stream",
          "name": "stdout",
          "text": [
            "[[2 2]\n",
            " [2 2]\n",
            " [2 2]]\n"
          ]
        }
      ]
    },
    {
      "cell_type": "code",
      "source": [
        "c=np.identity(4) # or p.eye(5)\n",
        "print(np.linalg.det(c))"
      ],
      "metadata": {
        "colab": {
          "base_uri": "https://localhost:8080/"
        },
        "id": "RRMG1sp-MoxS",
        "outputId": "2e867333-5e01-4f58-a313-58660ab6faf7"
      },
      "execution_count": 104,
      "outputs": [
        {
          "output_type": "stream",
          "name": "stdout",
          "text": [
            "1.0\n"
          ]
        }
      ]
    },
    {
      "cell_type": "code",
      "source": [
        "# Solve simultaneous linear equations\n",
        "right_hand_side = np.matrix([[11],\n",
        "                             [22],\n",
        "                             [33]])\n",
        "\n",
        "my_first_inverse = my_first_matrix.I\n"
      ],
      "metadata": {
        "id": "lBmlRhmkMzGR"
      },
      "execution_count": 106,
      "outputs": []
    },
    {
      "cell_type": "code",
      "source": [
        "solution = my_first_inverse * right_hand_side\n",
        "\n",
        "solution"
      ],
      "metadata": {
        "colab": {
          "base_uri": "https://localhost:8080/"
        },
        "id": "wERJK1pgVSFH",
        "outputId": "98cb5ff4-257b-49dc-9d11-09d1695e83a8"
      },
      "execution_count": 109,
      "outputs": [
        {
          "output_type": "execute_result",
          "data": {
            "text/plain": [
              "matrix([[ 2.93333333],\n",
              "        [ 5.13333333],\n",
              "        [-0.73333333]])"
            ]
          },
          "metadata": {},
          "execution_count": 109
        }
      ]
    },
    {
      "cell_type": "code",
      "source": [
        "#more efficient for large matrices\n",
        "from numpy.linalg import solve\n",
        "solve(my_first_matrix,right_hand_side)\n"
      ],
      "metadata": {
        "colab": {
          "base_uri": "https://localhost:8080/"
        },
        "id": "6iPsSjrMVgio",
        "outputId": "a6d65e4f-0b1e-45ce-9f67-ae4564241db2"
      },
      "execution_count": 111,
      "outputs": [
        {
          "output_type": "execute_result",
          "data": {
            "text/plain": [
              "matrix([[ 2.93333333],\n",
              "        [ 5.13333333],\n",
              "        [-0.73333333]])"
            ]
          },
          "metadata": {},
          "execution_count": 111
        }
      ]
    },
    {
      "cell_type": "code",
      "source": [
        "# Compute the eigenvalues and eigenvectors\n",
        "from numpy.linalg import eig\n",
        "eig(my_first_matrix)"
      ],
      "metadata": {
        "colab": {
          "base_uri": "https://localhost:8080/"
        },
        "id": "7VsR9m_8Y6io",
        "outputId": "2fb3e4a4-c8dc-4f19-bd95-4ff7a4d1770f"
      },
      "execution_count": 113,
      "outputs": [
        {
          "output_type": "execute_result",
          "data": {
            "text/plain": [
              "(array([13.08576474,  2.58000566, -2.66577041]),\n",
              " matrix([[-0.31542644, -0.95117074, -0.32372474],\n",
              "         [-0.72306109,  0.30781323, -0.70222933],\n",
              "         [-0.61456393,  0.02291827,  0.63409484]]))"
            ]
          },
          "metadata": {},
          "execution_count": 113
        }
      ]
    },
    {
      "cell_type": "markdown",
      "source": [
        "**Statistics**"
      ],
      "metadata": {
        "id": "6Lj4OJN0ZVa2"
      }
    },
    {
      "cell_type": "code",
      "source": [
        "stats = np.array([[1,2,3],[4,5,6]])\n",
        "stats"
      ],
      "metadata": {
        "colab": {
          "base_uri": "https://localhost:8080/"
        },
        "id": "KhLYO91-ZONn",
        "outputId": "a208a14a-7b78-4a0c-e369-ff31a10c16a0"
      },
      "execution_count": 116,
      "outputs": [
        {
          "output_type": "execute_result",
          "data": {
            "text/plain": [
              "array([[1, 2, 3],\n",
              "       [4, 5, 6]])"
            ]
          },
          "metadata": {},
          "execution_count": 116
        }
      ]
    },
    {
      "cell_type": "code",
      "source": [
        "print(np.min(stats, axis=0))\n",
        "print(np.min(stats, axis=1))\n",
        "\n",
        "print(np.max(stats, axis=0))\n",
        "print(np.max(stats, axis=1))"
      ],
      "metadata": {
        "colab": {
          "base_uri": "https://localhost:8080/"
        },
        "id": "j0uVtPSVeWjN",
        "outputId": "14cacd06-203f-47b4-c766-0520bad10ff2"
      },
      "execution_count": 117,
      "outputs": [
        {
          "output_type": "stream",
          "name": "stdout",
          "text": [
            "[1 2 3]\n",
            "[1 4]\n",
            "[4 5 6]\n",
            "[3 6]\n"
          ]
        }
      ]
    },
    {
      "cell_type": "code",
      "source": [
        "np.sum(stats, axis=0)"
      ],
      "metadata": {
        "colab": {
          "base_uri": "https://localhost:8080/"
        },
        "id": "rA4OIVfrelDt",
        "outputId": "405c824e-8b05-4c76-e0f1-54205a7784c4"
      },
      "execution_count": 118,
      "outputs": [
        {
          "output_type": "execute_result",
          "data": {
            "text/plain": [
              "array([5, 7, 9])"
            ]
          },
          "metadata": {},
          "execution_count": 118
        }
      ]
    },
    {
      "cell_type": "code",
      "source": [
        "rnd=np.random.randn(4,2) # random normals in 4X2 array\n",
        "print(rnd.mean())\n",
        "print(rnd.std())\n",
        "print(rnd.argmin()) # index of minimum element\n",
        "print(rnd.sum())\n",
        "print(rnd.sum(axis=0)) # sum of columns\n",
        "print(rnd.sum(axis=1)) # sum of rows"
      ],
      "metadata": {
        "colab": {
          "base_uri": "https://localhost:8080/"
        },
        "id": "RbdvlnahequY",
        "outputId": "ea05a645-4e9f-4239-95ab-dc9d93eb5fe1"
      },
      "execution_count": 119,
      "outputs": [
        {
          "output_type": "stream",
          "name": "stdout",
          "text": [
            "-0.20157312557013393\n",
            "1.0200789987418581\n",
            "1\n",
            "-1.6125850045610715\n",
            "[-2.23399201  0.621407  ]\n",
            "[-2.1122827   0.72744939  1.03074437 -1.25849608]\n"
          ]
        }
      ]
    },
    {
      "cell_type": "code",
      "source": [],
      "metadata": {
        "id": "-wEwpK6FfjKC"
      },
      "execution_count": null,
      "outputs": []
    },
    {
      "cell_type": "markdown",
      "source": [
        "***https://github.com/veb-101/Numpy-Pandas-Matplotlib-Tutorial/blob/master/numpy/Numpy%20basic%20tutorial.ipynb***"
      ],
      "metadata": {
        "id": "z6ITmTvPf6CP"
      }
    }
  ]
}