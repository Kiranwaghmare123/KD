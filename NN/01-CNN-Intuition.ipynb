{
 "cells": [
  {
   "cell_type": "markdown",
   "metadata": {
    "toc": "true"
   },
   "source": [
    "# Table of Contents\n",
    " <p><div class=\"lev1 toc-item\"><a href=\"#CNN-Intuition\" data-toc-modified-id=\"CNN-Intuition-1\"><span class=\"toc-item-num\">1&nbsp;&nbsp;</span>CNN Intuition</a></div><div class=\"lev2 toc-item\"><a href=\"#Plan-of-attack\" data-toc-modified-id=\"Plan-of-attack-11\"><span class=\"toc-item-num\">1.1&nbsp;&nbsp;</span>Plan of attack</a></div><div class=\"lev2 toc-item\"><a href=\"#What-are-Convolutional-Neural-Networks?\" data-toc-modified-id=\"What-are-Convolutional-Neural-Networks?-12\"><span class=\"toc-item-num\">1.2&nbsp;&nbsp;</span>What are Convolutional Neural Networks?</a></div><div class=\"lev2 toc-item\"><a href=\"#Step-1---Convolution\" data-toc-modified-id=\"Step-1---Convolution-13\"><span class=\"toc-item-num\">1.3&nbsp;&nbsp;</span>Step 1 - Convolution</a></div><div class=\"lev2 toc-item\"><a href=\"#Step-1(b):-ReLU-Layer\" data-toc-modified-id=\"Step-1(b):-ReLU-Layer-14\"><span class=\"toc-item-num\">1.4&nbsp;&nbsp;</span>Step 1(b): ReLU Layer</a></div><div class=\"lev2 toc-item\"><a href=\"#Step-2:-Max-Pooling\" data-toc-modified-id=\"Step-2:-Max-Pooling-15\"><span class=\"toc-item-num\">1.5&nbsp;&nbsp;</span>Step 2: Max Pooling</a></div><div class=\"lev2 toc-item\"><a href=\"#Step-3:-Flattening\" data-toc-modified-id=\"Step-3:-Flattening-16\"><span class=\"toc-item-num\">1.6&nbsp;&nbsp;</span>Step 3: Flattening</a></div><div class=\"lev2 toc-item\"><a href=\"#Step-4:-Full-Connection\" data-toc-modified-id=\"Step-4:-Full-Connection-17\"><span class=\"toc-item-num\">1.7&nbsp;&nbsp;</span>Step 4: Full Connection</a></div><div class=\"lev2 toc-item\"><a href=\"#Summary\" data-toc-modified-id=\"Summary-18\"><span class=\"toc-item-num\">1.8&nbsp;&nbsp;</span>Summary</a></div><div class=\"lev2 toc-item\"><a href=\"#Softmax-&amp;-Cross-Entropy\" data-toc-modified-id=\"Softmax-&amp;-Cross-Entropy-19\"><span class=\"toc-item-num\">1.9&nbsp;&nbsp;</span>Softmax &amp; Cross-Entropy</a></div>"
   ]
  },
  {
   "cell_type": "markdown",
   "metadata": {},
   "source": [
    "# CNN Intuition\n",
    "\n",
    "Credit: [Deep Learning A-Z™: Hands-On Artificial Neural Networks](https://www.udemy.com/deeplearning/learn/v4/content)"
   ]
  },
  {
   "cell_type": "markdown",
   "metadata": {},
   "source": [
    "## Plan of attack"
   ]
  },
  {
   "cell_type": "markdown",
   "metadata": {},
   "source": [
    "- What are Convolutional Neural Networks?\n",
    "- Step 1: Convolution Operation\n",
    "- Step 1(b): ReLU Layer\n",
    "- Step 2: Pooling\n",
    "- Step 3: Flattening\n",
    "- Step 4: Full Connection\n",
    "- Extra: Softmax & Cross-Entropy"
   ]
  },
  {
   "cell_type": "markdown",
   "metadata": {},
   "source": [
    "## What are Convolutional Neural Networks?"
   ]
  },
  {
   "cell_type": "markdown",
   "metadata": {},
   "source": [
    "<img src=\"./images/Screen Shot 2017-08-17 at 12.10.48 AM.png\">"
   ]
  },
  {
   "cell_type": "markdown",
   "metadata": {},
   "source": [
    "- The brain processes a certain feature on an image and it classifies that assertion. Depends on the feature that you see, you categorize things in certain ways.\n",
    "    - For example: \n",
    "        - By looking on the right side of the above image, you see a person looking to the right.\n",
    "        - By looking on the left side of the above image, you see a person looking at you.\n",
    "        \n",
    "- CNN works similar to our brain processing.\n",
    "- Our CNN will see:\n",
    "    - Black and white image = 2d array\n",
    "    - Colored image = 3d array\n",
    "    \n",
    "<img src=\"./images/Screen Shot 2017-08-17 at 12.34.16 AM.png\">\n",
    "\n",
    "- We can simplify image as: white=0 and black=1\n",
    "\n",
    "<img src=\"./images/Screen Shot 2017-08-17 at 12.35.26 AM.png\">"
   ]
  },
  {
   "cell_type": "markdown",
   "metadata": {},
   "source": [
    "## Step 1 - Convolution"
   ]
  },
  {
   "cell_type": "markdown",
   "metadata": {
    "collapsed": true
   },
   "source": [
    "<img src=\"./images/Screen Shot 2017-08-18 at 8.41.29 AM.png\">\n",
    "\n",
    "- Feature detector is a 3x3 matrix. AlexNet uses a 7x7 matrix.\n",
    "- Feature dectector can also be called kernel or filter.\n",
    "- A convolution operation is \n",
    "    - $\\bigotimes$ : an x inside a circle\n",
    "- What happens in the background is \n",
    "    - First, you put the filter on top of the input image, and multiply each respected value (element wise multiplication), and then add up the result.\n",
    "    - Then we move the filter, the step to move the filter is called \"stride\". Stride 1 is move 1 pixel, stride 2 is move 2 pixels.\n",
    "    - After the first 2 steps, we have a feature map matrix (convolved feature)\n",
    "- Why we do this?\n",
    "    - Making the image smaller so it is easier to process. The bigger the stride the smaller the image.\n",
    "    - The purpose of the feature detector is to detect certain features or part of the image that are integral. The highest number in the feature is when the pattern matches up.\n",
    "    - Same thing with our brain, where we does not look at all pixels but rather look at features like: nose, hat, ..."
   ]
  },
  {
   "cell_type": "markdown",
   "metadata": {
    "collapsed": true
   },
   "source": [
    "<img src=\"./images/Screen Shot 2017-08-18 at 8.44.15 AM.png\">\n",
    "\n",
    "- We create many feature maps to obtain our first convolution layer. Because each feature detector we apply gives us a different feature maps.\n",
    "- The primary purpose of convolution is to find features in your image using the feature detector, put them into a feature map and still preserve the spatial relationship between pixel.\n",
    "\n",
    "__Additional Reading__\n",
    "* Jianxin Wu, 2017, [Introduction to Convolutional Neural Networks](http://cs.nju.edu.cn/wujx/paper/CNN.pdf)"
   ]
  },
  {
   "cell_type": "markdown",
   "metadata": {
    "collapsed": true
   },
   "source": [
    "## Step 1(b): ReLU Layer"
   ]
  },
  {
   "cell_type": "markdown",
   "metadata": {},
   "source": [
    "<img src=\"./images/Screen Shot 2017-08-18 at 8.58.52 AM.png\">\n",
    "\n",
    "- ReLU: Rectified Linear Unit\n",
    "- By applying ReLU, you can increase non-linearity in our CNN since images are highly non-linear."
   ]
  },
  {
   "cell_type": "markdown",
   "metadata": {},
   "source": [
    "<img src=\"./images/Screen Shot 2017-08-18 at 9.01.17 AM.png\">\n",
    "<img src=\"./images/Screen Shot 2017-08-18 at 9.01.36 AM.png\">\n",
    "\n",
    "- In the example above, ReLU function removes all the black (negative) in the image.\n",
    "    - There is a certain linearity when the image goes from white to black (white -> gray -> black). The ReLU function wil remove that progression.\n",
    "\n",
    "__Additional Reading__\n",
    "* C.-C. Jay Kuo, 2016, [Understanding Convolutional Neural Networks with A Mathematical Model](https://arxiv.org/pdf/1609.04112.pdf)\n",
    "* Kaiming He et al., 2015, [Delving Deep into Rectifiers: Surpassing Human-Level Performance on ImageNet Classification](https://arxiv.org/pdf/1502.01852.pdf)"
   ]
  },
  {
   "cell_type": "markdown",
   "metadata": {},
   "source": [
    "## Step 2: Max Pooling"
   ]
  },
  {
   "cell_type": "markdown",
   "metadata": {
    "collapsed": true
   },
   "source": [
    "<img src=\"./images/Screen Shot 2017-09-05 at 11.09.33 PM.png\">\n",
    "\n",
    "- The problem is when we have multiple images about the same object but in different direction, and the texture is a bit different.\n",
    "- We have to make sure our neural network has a property called spatial invariance - meaning that it does not care where the features are, not so much as in which part of the image"
   ]
  },
  {
   "cell_type": "markdown",
   "metadata": {
    "collapsed": true
   },
   "source": [
    "There are several types of pooling: mean pooling, max pooling, sum pooling...\n",
    "\n",
    "<img src=\"./images/Screen Shot 2017-09-05 at 11.14.01 PM.png\">\n",
    "\n",
    "**Applying Max Pooling**\n",
    "- We take a box of 2x2 pixel and place it in the top left hand corner of the feature map, then find the maximum value in that box, and only record that value. Then move the box to the right by stride.\n",
    "- A few things happen:\n",
    "    - We still are able to preserve the features. The maximum value represents the closest similarity to the feature.\n",
    "    - Pooling these features help us getting rid of 75% of the not important information. We are reducing the size and number of parameters that are going to go into our final layer of the neural network and therefore prevent overfitting.\n",
    "    - Taking the maximum of the pixels accounts for any distortion. The pool feature of the different rotation images will be exactly the same.\n",
    "    \n",
    "__Additional Reading__\n",
    "* Dominik Scherer et al., 2010, [Evaluation of Pooling Operations in Convolutional Architectures for Object Recognition](http://ais.uni-bonn.de/papers/icann2010_maxpool.pdf)\n",
    "\n",
    "- [2D Visualization of a Convolutional Neural Network](http://scs.ryerson.ca/~aharley/vis/conv/flat.html)"
   ]
  },
  {
   "cell_type": "markdown",
   "metadata": {},
   "source": [
    "## Step 3: Flattening"
   ]
  },
  {
   "cell_type": "markdown",
   "metadata": {},
   "source": [
    "<img src=\"./images/Screen Shot 2017-09-05 at 11.34.33 PM.png\">\n",
    "\n",
    "- Pooled Feature Map: result of these steps:\n",
    "    - First, we apply the convolution operation to our image.\n",
    "    - Then we apply pooling to the result of the first step.    \n",
    "- Flattening: we take the Pooled Feature Map and flatten it into a column. Basically just take the numbers row by row and put them into one long column.\n",
    "    - The reason for this is because we want to put this into an artificial neural network for further processing.\n",
    "    \n",
    "**Summary of 3 steps**\n",
    "<img src=\"./images/Screen Shot 2017-09-05 at 11.37.46 PM.png\">"
   ]
  },
  {
   "cell_type": "markdown",
   "metadata": {},
   "source": [
    "## Step 4: Full Connection"
   ]
  },
  {
   "cell_type": "markdown",
   "metadata": {},
   "source": [
    "<img src=\"./images/Screen Shot 2017-09-05 at 11.39.34 PM.png\">\n",
    "\n",
    "- After all 3 steps above: convolution, pooling, flattening, we then add a whole new ANN after that.\n",
    "- The fully connected layers are the hidden layers of the ANN.\n",
    "    - Hiddent layers don't have to be fully connected. \n",
    "    - However, in Convolutional Neural Network, we are using a specific type of hidden layer that is fully connected.\n",
    "- The main purpose of the ANN is to combine our features into more attributes that predict the classes better.\n",
    "\n",
    "<img src=\"./images/Screen Shot 2017-09-05 at 11.47.45 PM.png\">\n",
    "\n",
    "In this example above, why do we have 2 outputs but not one?\n",
    "- One output is when we are predicting a numerical value - meaning running a regression type of problem.\n",
    "- However, when we do classification, we need 1 output per class or per category.\n",
    "\n",
    "The process in this ANN works as normal:\n",
    "- After the pooling step, information  is going through the ANN, and a prediction is made.\n",
    "- Error is calculated by the cost function (loss function - cross entropy function). We try to minimize the loss function to optimize our network. And then the error is back propagated through the network. \n",
    "- A couple of things are adjusted in the network to help optimize the performance:\n",
    "    - weights (synapses) are adjusted.\n",
    "    - Feature detectors (3x3 matrices) are adjusted."
   ]
  },
  {
   "cell_type": "markdown",
   "metadata": {
    "collapsed": true
   },
   "source": [
    "**How two output neurons work?**\n",
    "\n",
    "<img src=\"./images/Screen Shot 2017-09-06 at 9.52.47 AM.png\">\n",
    "\n",
    "- Let's say hypothetically we have these numbers in the previous fully connected layer. The numbers are between 0 and 1, but they can be anything. Each number represents a feature importance.\n",
    "    - number 1: neuron is confident that it found an important feature\n",
    "    - number 0: neuron did not find that feature important.\n",
    "- In this case, the high number indicates that those features (fluffy ears, wet nose, ...) belong to a dog. Even though the signals are sent to both Dog and Cat but some signals indicate that it is a dog.\n",
    "- Throughout lots of iterations, the dog class will know which of these neurons indeed fire up when the feature belongs to a dog. On the other hand, the Cat neuron will ignore these neurons because they are not an indication of a cat.\n",
    "- That is how these final output neurons learn which neurons in the final fully connected layer to listen to. That is how the features are propagated through the network and conveyed to the output.\n",
    "- Depends on the probabilities of the neuron in the final fully connected layer, they get to vote to make the final prediction, the weight are the importance of the vote.\n",
    "\n",
    "<img src=\"./images/Screen Shot 2017-09-06 at 9.59.07 AM.png\">"
   ]
  },
  {
   "cell_type": "markdown",
   "metadata": {
    "collapsed": true
   },
   "source": [
    "## Summary"
   ]
  },
  {
   "cell_type": "markdown",
   "metadata": {},
   "source": [
    "<img src=\"./images/Screen Shot 2017-09-06 at 3.13.16 PM.png\">\n",
    "\n",
    "- Step 1: Starting with an input image, we apply multiple different feature detectors (filters), this comprises the convolutional layer.\n",
    "- Step 1(b): On top of the convolutional layer, we apply the ReLU (Rectified Linear Unit) to remove linearity and increase non-linearity in our images.\n",
    "- Step 2: Apply the pooling layer to our convolutional layer. The main purpose of the pooling layer is to make sure that we have a spatial invariants in our images, reduce the size, and reduce overfitting.\n",
    "- Step 3: Flatten all the pooled images into 1 long vector so we can input that into an Artificial Neural Network.\n",
    "- Step 4: Fully connected ANN where all features are processed through a network, then we have the final layer which performs the voting towards the classes. All of this is trained through a forward propagation and back propagation process. Lots of iteration and epochs.\n",
    "\n",
    "__Additional Reading__\n",
    "* Adit Deshpande, 2016, [The 9 Deep Learning Papers You Need To Know About (Understanding CNNs Part 3)](https://adeshpande3.github.io/adeshpande3.github.io/The-9-Deep-Learning-Papers-You-Need-To-Know-About.html)\n"
   ]
  },
  {
   "cell_type": "markdown",
   "metadata": {},
   "source": [
    "## Softmax & Cross-Entropy"
   ]
  },
  {
   "cell_type": "markdown",
   "metadata": {},
   "source": [
    "<img src=\"./images/Screen Shot 2017-09-06 at 3.49.21 PM.png\">\n",
    "\n",
    "- The output of a single prediction output will be 2 values indicate the probability of a dog and a cat, and why these two values add up to 1?\n",
    "    - Normally, the dog and the cat neurons would have any kind of real values\n",
    "    - If we apply the softmax function, that would bring these two values to be between 0 and 1, and would make them add up to 1.\n",
    "    - Softmax function: $\\large f_i(z) = \\large \\frac{e^{z_j}}{\\sum_k e^{z_k}}$\n",
    "    \n",
    "- Cross-Entropy function: $\\large L_i = - \\log (\\large \\frac{e^{f_{y_i}}}{\\sum_j e^{f_i}}) $\n",
    "    - A different representation of cross-entropy: $\\large H(p,q) = - \\sum_{x} p(x) \\log q(x) $\n",
    "    - After softmax, we use cross-entropy as a loss function. The loss function is something we want to minimize in order to maximize the performance of our network.\n",
    "    - You can plug in the number to cross-entropy as below\n",
    "\n",
    "<img src=\"./images/Screen Shot 2017-09-06 at 4.05.29 PM.png\">"
   ]
  },
  {
   "cell_type": "markdown",
   "metadata": {},
   "source": [
    "**Compare different loss functions when compare 2 neural networks**\n",
    "<img src=\"./images/Screen Shot 2017-09-06 at 4.07.13 PM.png\">\n",
    "\n",
    "- The advantage of Cross-Entropy over Mean Squared Error:\n",
    "    - If at the start of your back-propagation, your output is very small, then the gradient in the gradient descent will be very low. It will be very hard for the neural network to start moving around, and adjust the weights. However, since the Cross-Entropy has the logarithm in it, it helps the network access the small value.\n",
    "- Cross-Entropy is only preffered for classification. If it is a Regression problem, then you should use Mean Squared Error.\n",
    "\n",
    "__Additional Reading__\n",
    "* Rob DiPietro, 2016, [A Friendly Introduction to Cross-Entropy Loss](https://rdipietro.github.io/friendly-intro-to-cross-entropy-loss/)\n"
   ]
  }
 ],
 "metadata": {
  "kernelspec": {
   "display_name": "Python 3",
   "language": "python",
   "name": "python3"
  },
  "language_info": {
   "codemirror_mode": {
    "name": "ipython",
    "version": 3
   },
   "file_extension": ".py",
   "mimetype": "text/x-python",
   "name": "python",
   "nbconvert_exporter": "python",
   "pygments_lexer": "ipython3",
   "version": "3.5.3"
  },
  "toc": {
   "colors": {
    "hover_highlight": "#DAA520",
    "navigate_num": "#000000",
    "navigate_text": "#333333",
    "running_highlight": "#FF0000",
    "selected_highlight": "#FFD700",
    "sidebar_border": "#EEEEEE",
    "wrapper_background": "#FFFFFF"
   },
   "moveMenuLeft": true,
   "nav_menu": {
    "height": "103px",
    "width": "252px"
   },
   "navigate_menu": true,
   "number_sections": true,
   "sideBar": true,
   "threshold": 4,
   "toc_cell": true,
   "toc_number_sections": false,
   "toc_section_display": "block",
   "toc_threshold": "8",
   "toc_window_display": false,
   "widenNotebook": false
  }
 },
 "nbformat": 4,
 "nbformat_minor": 2
}
